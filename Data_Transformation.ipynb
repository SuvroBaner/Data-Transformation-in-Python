{
 "cells": [
  {
   "cell_type": "code",
   "execution_count": 1,
   "metadata": {
    "collapsed": true
   },
   "outputs": [],
   "source": [
    "# Smarking Data Transformation Task, presented by Suvro Banerjee"
   ]
  },
  {
   "cell_type": "code",
   "execution_count": 1,
   "metadata": {
    "collapsed": true
   },
   "outputs": [],
   "source": [
    "import pandas as pd\n",
    "import datetime\n",
    "import math"
   ]
  },
  {
   "cell_type": "code",
   "execution_count": 2,
   "metadata": {
    "collapsed": true
   },
   "outputs": [],
   "source": [
    "# Read the pickeled file (each row is a transaction record)\n",
    "trans = pd.read_pickle('transactions.pkl')"
   ]
  },
  {
   "cell_type": "code",
   "execution_count": 3,
   "metadata": {
    "collapsed": false
   },
   "outputs": [
    {
     "data": {
      "text/plain": [
       "(236855, 39)"
      ]
     },
     "execution_count": 3,
     "metadata": {},
     "output_type": "execute_result"
    }
   ],
   "source": [
    "trans.shape"
   ]
  },
  {
   "cell_type": "code",
   "execution_count": 4,
   "metadata": {
    "collapsed": false
   },
   "outputs": [
    {
     "data": {
      "text/html": [
       "<div>\n",
       "<table border=\"1\" class=\"dataframe\">\n",
       "  <thead>\n",
       "    <tr style=\"text-align: right;\">\n",
       "      <th></th>\n",
       "      <th>entry_time</th>\n",
       "      <th>entry_year</th>\n",
       "      <th>entry_month</th>\n",
       "      <th>entry_day</th>\n",
       "      <th>entry_hour</th>\n",
       "      <th>entry_minute</th>\n",
       "      <th>entry_dayofweek</th>\n",
       "      <th>entry_date</th>\n",
       "      <th>entry_date_hour</th>\n",
       "      <th>entry_year_week</th>\n",
       "      <th>...</th>\n",
       "      <th>exit_device</th>\n",
       "      <th>ticket_number</th>\n",
       "      <th>ticket_type</th>\n",
       "      <th>trans_number</th>\n",
       "      <th>trans_type</th>\n",
       "      <th>rate</th>\n",
       "      <th>card_number</th>\n",
       "      <th>first_name</th>\n",
       "      <th>last_name</th>\n",
       "      <th>access_group</th>\n",
       "    </tr>\n",
       "  </thead>\n",
       "  <tbody>\n",
       "    <tr>\n",
       "      <th>0</th>\n",
       "      <td>2012-07-06 17:13:00</td>\n",
       "      <td>2012</td>\n",
       "      <td>7</td>\n",
       "      <td>6</td>\n",
       "      <td>17</td>\n",
       "      <td>13</td>\n",
       "      <td>Friday</td>\n",
       "      <td>2012-07-06</td>\n",
       "      <td>2012-07-06 17:00:00</td>\n",
       "      <td>201226</td>\n",
       "      <td>...</td>\n",
       "      <td>ACG Red T/C Exit 6800//L</td>\n",
       "      <td>25681</td>\n",
       "      <td>Entry</td>\n",
       "      <td>251</td>\n",
       "      <td>Normal</td>\n",
       "      <td>1</td>\n",
       "      <td>-1</td>\n",
       "      <td>NaN</td>\n",
       "      <td>NaN</td>\n",
       "      <td>Transient</td>\n",
       "    </tr>\n",
       "  </tbody>\n",
       "</table>\n",
       "<p>1 rows × 39 columns</p>\n",
       "</div>"
      ],
      "text/plain": [
       "           entry_time  entry_year  entry_month  entry_day  entry_hour  \\\n",
       "0 2012-07-06 17:13:00        2012            7          6          17   \n",
       "\n",
       "   entry_minute entry_dayofweek  entry_date     entry_date_hour  \\\n",
       "0            13          Friday  2012-07-06 2012-07-06 17:00:00   \n",
       "\n",
       "   entry_year_week     ...                    exit_device ticket_number  \\\n",
       "0           201226     ...       ACG Red T/C Exit 6800//L         25681   \n",
       "\n",
       "   ticket_type  trans_number  trans_type  rate  card_number first_name  \\\n",
       "0        Entry           251      Normal     1           -1        NaN   \n",
       "\n",
       "  last_name access_group  \n",
       "0       NaN    Transient  \n",
       "\n",
       "[1 rows x 39 columns]"
      ]
     },
     "execution_count": 4,
     "metadata": {},
     "output_type": "execute_result"
    }
   ],
   "source": [
    "trans[0:1]"
   ]
  },
  {
   "cell_type": "code",
   "execution_count": 5,
   "metadata": {
    "collapsed": false
   },
   "outputs": [
    {
     "data": {
      "text/plain": [
       "entry_time          datetime64[ns]\n",
       "entry_year                   int32\n",
       "entry_month                  int32\n",
       "entry_day                    int32\n",
       "entry_hour                   int32\n",
       "entry_minute                 int32\n",
       "entry_dayofweek             object\n",
       "entry_date                  object\n",
       "entry_date_hour     datetime64[ns]\n",
       "entry_year_week              int32\n",
       "entry_year_month             int32\n",
       "exit_time           datetime64[ns]\n",
       "exit_year                    int32\n",
       "exit_month                   int32\n",
       "exit_day                     int32\n",
       "exit_hour                    int32\n",
       "exit_minute                  int32\n",
       "exit_dayofweek              object\n",
       "exit_date                   object\n",
       "exit_date_hour      datetime64[ns]\n",
       "exit_year_week               int32\n",
       "exit_year_month              int32\n",
       "duration_min                 int64\n",
       "duration_hour              float64\n",
       "duration_hour_up             int64\n",
       "revenue                    float64\n",
       "gross_revenue              float64\n",
       "lot                          int64\n",
       "entry_device                object\n",
       "exit_device                 object\n",
       "ticket_number                int64\n",
       "ticket_type                 object\n",
       "trans_number                 int64\n",
       "trans_type                  object\n",
       "rate                        object\n",
       "card_number                  int64\n",
       "first_name                  object\n",
       "last_name                   object\n",
       "access_group                object\n",
       "dtype: object"
      ]
     },
     "execution_count": 5,
     "metadata": {},
     "output_type": "execute_result"
    }
   ],
   "source": [
    "trans.dtypes"
   ]
  },
  {
   "cell_type": "code",
   "execution_count": 5,
   "metadata": {
    "collapsed": false
   },
   "outputs": [],
   "source": [
    "# Let's take the relevant colum for this task\n",
    "trans_project = trans.ix[:, ['entry_time', 'exit_time', 'ticket_number']]"
   ]
  },
  {
   "cell_type": "code",
   "execution_count": 6,
   "metadata": {
    "collapsed": false
   },
   "outputs": [
    {
     "data": {
      "text/html": [
       "<div>\n",
       "<table border=\"1\" class=\"dataframe\">\n",
       "  <thead>\n",
       "    <tr style=\"text-align: right;\">\n",
       "      <th></th>\n",
       "      <th>entry_time</th>\n",
       "      <th>exit_time</th>\n",
       "      <th>ticket_number</th>\n",
       "    </tr>\n",
       "  </thead>\n",
       "  <tbody>\n",
       "    <tr>\n",
       "      <th>0</th>\n",
       "      <td>2012-07-06 17:13:00</td>\n",
       "      <td>2013-01-24 22:49:00</td>\n",
       "      <td>25681</td>\n",
       "    </tr>\n",
       "  </tbody>\n",
       "</table>\n",
       "</div>"
      ],
      "text/plain": [
       "           entry_time           exit_time  ticket_number\n",
       "0 2012-07-06 17:13:00 2013-01-24 22:49:00          25681"
      ]
     },
     "execution_count": 6,
     "metadata": {},
     "output_type": "execute_result"
    }
   ],
   "source": [
    "trans_project[0:1]"
   ]
  },
  {
   "cell_type": "code",
   "execution_count": 7,
   "metadata": {
    "collapsed": true
   },
   "outputs": [],
   "source": [
    "# Now the logic begins, the intention is given below-\n",
    "# Create a dictionary, say (dict-1) with key as the 'start_date'\n",
    "# the value would be another dictionary, say (dict-2).\n",
    "# The second dictionary dict-2 will have key as \"duration\" i.e. exit_time - entry_time\n",
    "# and the value would be a counter that will have the number of cars.\n",
    "# Let's do it now."
   ]
  },
  {
   "cell_type": "code",
   "execution_count": 8,
   "metadata": {
    "collapsed": false
   },
   "outputs": [],
   "source": [
    "# This function computes the number of cars in specific interval of duration.\n",
    "# Input : User input of \"Start Time\", \"End Time\", \"Day of the Week\" and \"Hour of the Day\"\n",
    "# The parsed search string is the Input.\n",
    "# Output: Returns a dictionary which contains the search result.\n",
    "\n",
    "def computeNumCars(searchParking):\n",
    "    \n",
    "    entry_key = {}  # outer dict, holds key as \"start_date\" and value as another dict.\n",
    "    \n",
    "    for index, row in trans_project.iterrows():\n",
    "        ent_time = row['entry_time'] # entry_time\n",
    "        ext_time = row['exit_time'] # exit_time\n",
    "        \n",
    "        duration = ext_time - ent_time # duration of stay (timedelta64 type)\n",
    "        duration_hr = math.ceil((duration.total_seconds()) / 3600) # duration in hour\n",
    "        \n",
    "        ent_str = ent_time.strftime('%Y/%m/%d %H') # converting entry_time to string\n",
    "        \n",
    "        # if the entry_time is a new time\n",
    "        if ent_str not in entry_key:\n",
    "            dur_key = {} # this dict is the value of the outer dict (entry_key)\n",
    "            \n",
    "            # duration_hr is the key and value is a counter set to 1 for the 1st time\n",
    "            dur_key[duration_hr] = 1 \n",
    "            \n",
    "            entry_key[ent_str] = dur_key  # setting the value of the outer dict.\n",
    "        \n",
    "        # if the start-date already exists in the outer dict\n",
    "        else:\n",
    "            duration_map = entry_key.get(ent_str) # get the start date and store it in a map\n",
    "            \n",
    "            if duration_hr not in duration_map:\n",
    "                duration_map[duration_hr] = 1\n",
    "            else:\n",
    "                num_of_cars = duration_map.get(duration_hr) + 1\n",
    "                duration_map.update({duration_hr : num_of_cars})\n",
    "                \n",
    "    searchParking = str(searchParking)\n",
    "    try:\n",
    "        print('The Parking Place information on ', searchParking, 'is as below')\n",
    "        return entry_key[searchParking]\n",
    "    except KeyError:\n",
    "        pass"
   ]
  },
  {
   "cell_type": "code",
   "execution_count": 9,
   "metadata": {
    "collapsed": false
   },
   "outputs": [],
   "source": [
    "number_to_day_of_week = {0: 'Monday',\n",
    "                         1: 'Tuesday',\n",
    "                         2: 'Wednesday',\n",
    "                         3: 'Thursday',\n",
    "                         4: 'Friday',\n",
    "                         5: 'Saturday',\n",
    "                         6: 'Sunday'}\n",
    "\n",
    "day_of_week_to_number = {'Monday': 0,\n",
    "                         'Tuesday': 1,\n",
    "                         'Wednesday': 2,\n",
    "                         'Thursday': 3,\n",
    "                         'Friday': 4,\n",
    "                         'Saturday': 5,\n",
    "                         'Sunday': 6}"
   ]
  },
  {
   "cell_type": "code",
   "execution_count": 57,
   "metadata": {
    "collapsed": false
   },
   "outputs": [
    {
     "name": "stdout",
     "output_type": "stream",
     "text": [
      "Enter the Start Date (YYYY/MM/DD HH:MM)    2013/06/07 06:00\n",
      "Enter the End Date (YYYY/MM/DD HH:MM)       2013/06/27 10:00\n",
      "Enter the Entry Day of Week            Friday\n",
      "Enter the Entry Hour                      10\n",
      "The Parking Place information on  2013/06/07 10 is as below\n",
      "{1: 7, 2: 11, 3: 3, 4: 2, 5: 2, 6: 2, 7: 3}\n",
      "The Parking Place information on  2013/06/14 10 is as below\n",
      "{1: 6, 2: 6, 3: 5, 4: 2, 5: 2, 6: 2, 7: 2}\n",
      "The Parking Place information on  2013/06/21 10 is as below\n",
      "{1: 5, 2: 3, 3: 4, 4: 2, 5: 1, 6: 2, 8: 1}\n"
     ]
    }
   ],
   "source": [
    "# Take the raw input\n",
    "input_StrtDt = input(\"Enter the Start Date (YYYY/MM/DD HH:MM)    \")\n",
    "input_EndDt = input(\"Enter the End Date (YYYY/MM/DD HH:MM)       \")\n",
    "input_DayOfWk = input(\"Enter the Entry Day of Week            \")\n",
    "input_HourOfDay = input(\"Enter the Entry Hour                      \")\n",
    "\n",
    "# Setting Flags for scanarios with \"All\" \n",
    "\n",
    "if (input_DayOfWk.title() == 'All'):\n",
    "    is_Day_All = True\n",
    "else:\n",
    "    is_Day_All = False\n",
    "    \n",
    "if (input_HourOfDay.title() == 'All'):\n",
    "    isHourAll = True\n",
    "else:\n",
    "    isHourAll = False\n",
    "\n",
    "# Converting the input to Timmestamp from string and doing transformations.\n",
    "\n",
    "input_StrtDt_Date = datetime.datetime.strptime(input_StrtDt, \"%Y/%m/%d %H:%M\")  # convert start date into date\n",
    "input_EndDt_Date = datetime.datetime.strptime(input_EndDt, \"%Y/%m/%d %H:%M\")    # convert the end date into date\n",
    "\n",
    "input_StrtDt_Date_Weekday = datetime.datetime.weekday(input_StrtDt_Date) # Weekday (returns a number) from start date\n",
    "\n",
    "\n",
    "# The following code is to set up the INITIAL date increments based on different scenarios.\n",
    "\n",
    "if is_Day_All:\n",
    "    pass # input_StrtDt_Date will remain the same when the start date and the day of the week is same.    \n",
    "\n",
    "else:\n",
    "    input_DayOfWk_Weekday = input_DayOfWk.title()  # proper case\n",
    "    input_DayOfWk_Weekday_Map_Num = day_of_week_to_number[input_DayOfWk_Weekday] # returns a number corres to the Input Weekday\n",
    "    \n",
    "    # if input Day of Week is ahead of the input Start Date\n",
    "    if (input_DayOfWk_Weekday_Map_Num > input_StrtDt_Date_Weekday):  # to set the increment of days\n",
    "        days_diff = input_DayOfWk_Weekday_Map_Num - input_StrtDt_Date_Weekday\n",
    "        input_StrtDt_Date += datetime.timedelta(days = days_diff)\n",
    "    \n",
    "    # if input Start Date is ahead of the input Day of the Week, in this case startdate to be incremented to the next week.\n",
    "    elif (input_StrtDt_Date_Weekday > input_DayOfWk_Weekday_Map_Num):  # to set the increment of days\n",
    "        days_diff_1 = 6 - input_StrtDt_Date_Weekday\n",
    "        days_diff_2 = input_DayOfWk_Weekday_Map_Num - 0\n",
    "        days_diff = days_diff_1 + days_diff_2 + 1\n",
    "        input_StrtDt_Date += datetime.timedelta(days = days_diff)\n",
    "        \n",
    "    else:\n",
    "        pass  # inputStrtDt_DT will remain the same when the start date and the day of the week is same.\n",
    "\n",
    "\n",
    "while (input_StrtDt_Date <= input_EndDt_Date):  # to generate a sequence of dates \n",
    "    \n",
    "    input_StrtDt_Date_Weekday_New = datetime.datetime.weekday(input_StrtDt_Date)   # Weekday (returns a number) from start date\n",
    "    input_StrtDt_Date_Weekday_New_Map = number_to_day_of_week[input_StrtDt_Date_Weekday_New] # convert the number to weekday (using a dict)\n",
    "    \n",
    "    # only if the Day of the Week entered is equal to the day of the New start date (computed), here both are like \"Wednesday\" etc.\n",
    "    if (input_DayOfWk_Weekday == input_StrtDt_Date_Weekday_New_Map and not is_Day_All):\n",
    "        \n",
    "        if isHourAll:\n",
    "            parsed_SearchDate = datetime.datetime.strftime(input_StrtDt_Date, '%Y/%m/%d')\n",
    "            hour = input_StrtDt_Date.hour\n",
    "            \n",
    "            if len(str(hour)) > 1:  # comes from input start date\n",
    "                parsed_SearchDate += ' ' + str(hour)  # parsing the Hour of the day\n",
    "            else:\n",
    "                parsed_SearchDate += ' 0'+ str(hour)  # parsing the Hour of the day\n",
    "            \n",
    "            print(computeNumCars(parsed_SearchDate))\n",
    "            \n",
    "            input_StrtDt_Date += datetime.timedelta(hours = 1)  # increment by 1 hr as All hour and after 24 goes to the next day(which we'll handle below)\n",
    "            if hour < 23:\n",
    "                hour += 1\n",
    "            else:\n",
    "                hour = 0\n",
    "                input_StrtDt_Date += datetime.timedelta(days = 6) # scenario when Day of week has a number and Hour of Day is All.\n",
    "      \n",
    "        else:\n",
    "            # start creating the search string for the computeNumCars()\n",
    "            parsed_SearchDate = datetime.datetime.strftime(input_StrtDt_Date, '%Y/%m/%d')\n",
    "        \n",
    "            if len(input_HourOfDay) > 1:\n",
    "                parsed_SearchDate += ' ' + input_HourOfDay  # parsing the Hour of the day\n",
    "            else:\n",
    "                parsed_SearchDate += ' 0'+ input_HourOfDay  # parsing the Hour of the day with a zero, due to our dict index.\n",
    "    \n",
    "            print(computeNumCars(parsed_SearchDate))  # Printing the dictionary. (Key: Duration in Hour) & (Value: Number of Cars)\n",
    "        \n",
    "            input_StrtDt_Date += datetime.timedelta(days = 7) # increment by 7 days\n",
    "            \n",
    "        \n",
    "        \n",
    "        \n",
    "    elif is_Day_All:  # All days\n",
    "        \n",
    "        if isHourAll:\n",
    "            parsed_SearchDate = datetime.datetime.strftime(input_StrtDt_Date, '%Y/%m/%d')\n",
    "            hour = input_StrtDt_Date.hour\n",
    "            \n",
    "            if len(str(hour)) > 1:  # comes from input start date\n",
    "                parsed_SearchDate += ' ' + str(hour)  # parsing the Hour of the day\n",
    "            else:\n",
    "                parsed_SearchDate += ' 0'+ str(hour)  # parsing the Hour of the day\n",
    "            \n",
    "            print(computeNumCars(parsed_SearchDate))\n",
    "            \n",
    "            input_StrtDt_Date += datetime.timedelta(hours = 1)  # increment by 1 hr as All hour and after 24 goes to the next day(which is desirable.)\n",
    "            \n",
    "        \n",
    "        else:\n",
    "            # start creating the search string for the computeNumCars()\n",
    "            parsed_SearchDate = datetime.datetime.strftime(input_StrtDt_Date, '%Y/%m/%d')\n",
    "            \n",
    "            if len(input_HourOfDay) > 1:\n",
    "                parsed_SearchDate += ' ' + input_HourOfDay  # parsing the Hour of the day\n",
    "            else:\n",
    "                parsed_SearchDate += ' 0'+ input_HourOfDay  # parsing the Hour of the day with a zero, due to our dict index.\n",
    "    \n",
    "            print(computeNumCars(parsed_SearchDate))  # Printing the dictionary. (Key: Duration in Hour) & (Value: Number of Cars)\n",
    "        \n",
    "            input_StrtDt_Date += datetime.timedelta(days = 1) # increment by 1 day"
   ]
  },
  {
   "cell_type": "code",
   "execution_count": null,
   "metadata": {
    "collapsed": true
   },
   "outputs": [],
   "source": [
    "# The above is a result of one of the scenarios."
   ]
  }
 ],
 "metadata": {
  "kernelspec": {
   "display_name": "Python 3",
   "language": "python",
   "name": "python3"
  },
  "language_info": {
   "codemirror_mode": {
    "name": "ipython",
    "version": 3
   },
   "file_extension": ".py",
   "mimetype": "text/x-python",
   "name": "python",
   "nbconvert_exporter": "python",
   "pygments_lexer": "ipython3",
   "version": "3.4.3"
  }
 },
 "nbformat": 4,
 "nbformat_minor": 0
}
